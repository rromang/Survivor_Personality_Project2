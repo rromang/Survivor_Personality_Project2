{
 "metadata": {
  "language_info": {
   "codemirror_mode": {
    "name": "ipython",
    "version": 3
   },
   "file_extension": ".py",
   "mimetype": "text/x-python",
   "name": "python",
   "nbconvert_exporter": "python",
   "pygments_lexer": "ipython3",
   "version": "3.7.10"
  },
  "orig_nbformat": 4,
  "kernelspec": {
   "name": "python3",
   "display_name": "Python 3.7.10 64-bit ('survivor_proj_env': conda)"
  },
  "interpreter": {
   "hash": "2c2dc460f6f98695cd7630a40ff4791ec17c769459ff5fefc7f5a7a6e76e1e21"
  }
 },
 "nbformat": 4,
 "nbformat_minor": 2,
 "cells": [
  {
   "cell_type": "code",
   "execution_count": 1,
   "metadata": {},
   "outputs": [],
   "source": [
    "# Dependencies and Setup\n",
    "import pandas as pd\n",
    "import scipy.stats as st\n",
    "import numpy as np"
   ]
  },
  {
   "cell_type": "code",
   "execution_count": 2,
   "metadata": {},
   "outputs": [
    {
     "output_type": "execute_result",
     "data": {
      "text/plain": [
       "                season_name  season         full_name castaway  age  \\\n",
       "0  Survivor: Winners at War      40  Natalie Anderson  Natalie   33   \n",
       "1  Survivor: Winners at War      40     Amber Mariano    Amber   40   \n",
       "2  Survivor: Winners at War      40  Danni Boatwright    Danni   43   \n",
       "3  Survivor: Winners at War      40        Ethan Zohn    Ethan   45   \n",
       "4  Survivor: Winners at War      40     Tyson Apostol    Tyson   39   \n",
       "\n",
       "           city          state personality_type  day  order         result  \\\n",
       "0     Edgewater     New Jersey             ESTP    2      1  1st voted out   \n",
       "1     Pensacola        Florida             ISFP    3      2  2nd voted out   \n",
       "2       Shawnee         Kansas             ENFJ    6      3  3rd voted out   \n",
       "3  Hillsborough  New Hampshire             ISFP    9      4  4th voted out   \n",
       "4          Mesa        Arizona             ESTP   11      5  5th voted out   \n",
       "\n",
       "       jury_status original_tribe swapped_tribe swapped_tribe2 merged_tribe  \\\n",
       "0              NaN           Sele           NaN            NaN          NaN   \n",
       "1  1st jury member          Dakal           NaN            NaN          NaN   \n",
       "2  2nd jury member           Sele           NaN            NaN          NaN   \n",
       "3  3rd jury member           Sele           NaN            NaN          NaN   \n",
       "4              NaN          Dakal           NaN            NaN          NaN   \n",
       "\n",
       "   total_votes_received  immunity_idols_won  \n",
       "0                    11                   1  \n",
       "1                     6                   0  \n",
       "2                     8                   0  \n",
       "3                     4                   0  \n",
       "4                    12                   0  "
      ],
      "text/html": "<div>\n<style scoped>\n    .dataframe tbody tr th:only-of-type {\n        vertical-align: middle;\n    }\n\n    .dataframe tbody tr th {\n        vertical-align: top;\n    }\n\n    .dataframe thead th {\n        text-align: right;\n    }\n</style>\n<table border=\"1\" class=\"dataframe\">\n  <thead>\n    <tr style=\"text-align: right;\">\n      <th></th>\n      <th>season_name</th>\n      <th>season</th>\n      <th>full_name</th>\n      <th>castaway</th>\n      <th>age</th>\n      <th>city</th>\n      <th>state</th>\n      <th>personality_type</th>\n      <th>day</th>\n      <th>order</th>\n      <th>result</th>\n      <th>jury_status</th>\n      <th>original_tribe</th>\n      <th>swapped_tribe</th>\n      <th>swapped_tribe2</th>\n      <th>merged_tribe</th>\n      <th>total_votes_received</th>\n      <th>immunity_idols_won</th>\n    </tr>\n  </thead>\n  <tbody>\n    <tr>\n      <th>0</th>\n      <td>Survivor: Winners at War</td>\n      <td>40</td>\n      <td>Natalie Anderson</td>\n      <td>Natalie</td>\n      <td>33</td>\n      <td>Edgewater</td>\n      <td>New Jersey</td>\n      <td>ESTP</td>\n      <td>2</td>\n      <td>1</td>\n      <td>1st voted out</td>\n      <td>NaN</td>\n      <td>Sele</td>\n      <td>NaN</td>\n      <td>NaN</td>\n      <td>NaN</td>\n      <td>11</td>\n      <td>1</td>\n    </tr>\n    <tr>\n      <th>1</th>\n      <td>Survivor: Winners at War</td>\n      <td>40</td>\n      <td>Amber Mariano</td>\n      <td>Amber</td>\n      <td>40</td>\n      <td>Pensacola</td>\n      <td>Florida</td>\n      <td>ISFP</td>\n      <td>3</td>\n      <td>2</td>\n      <td>2nd voted out</td>\n      <td>1st jury member</td>\n      <td>Dakal</td>\n      <td>NaN</td>\n      <td>NaN</td>\n      <td>NaN</td>\n      <td>6</td>\n      <td>0</td>\n    </tr>\n    <tr>\n      <th>2</th>\n      <td>Survivor: Winners at War</td>\n      <td>40</td>\n      <td>Danni Boatwright</td>\n      <td>Danni</td>\n      <td>43</td>\n      <td>Shawnee</td>\n      <td>Kansas</td>\n      <td>ENFJ</td>\n      <td>6</td>\n      <td>3</td>\n      <td>3rd voted out</td>\n      <td>2nd jury member</td>\n      <td>Sele</td>\n      <td>NaN</td>\n      <td>NaN</td>\n      <td>NaN</td>\n      <td>8</td>\n      <td>0</td>\n    </tr>\n    <tr>\n      <th>3</th>\n      <td>Survivor: Winners at War</td>\n      <td>40</td>\n      <td>Ethan Zohn</td>\n      <td>Ethan</td>\n      <td>45</td>\n      <td>Hillsborough</td>\n      <td>New Hampshire</td>\n      <td>ISFP</td>\n      <td>9</td>\n      <td>4</td>\n      <td>4th voted out</td>\n      <td>3rd jury member</td>\n      <td>Sele</td>\n      <td>NaN</td>\n      <td>NaN</td>\n      <td>NaN</td>\n      <td>4</td>\n      <td>0</td>\n    </tr>\n    <tr>\n      <th>4</th>\n      <td>Survivor: Winners at War</td>\n      <td>40</td>\n      <td>Tyson Apostol</td>\n      <td>Tyson</td>\n      <td>39</td>\n      <td>Mesa</td>\n      <td>Arizona</td>\n      <td>ESTP</td>\n      <td>11</td>\n      <td>5</td>\n      <td>5th voted out</td>\n      <td>NaN</td>\n      <td>Dakal</td>\n      <td>NaN</td>\n      <td>NaN</td>\n      <td>NaN</td>\n      <td>12</td>\n      <td>0</td>\n    </tr>\n  </tbody>\n</table>\n</div>"
     },
     "metadata": {},
     "execution_count": 2
    }
   ],
   "source": [
    "castaways_path = r'../castaways.csv'\n",
    "\n",
    "castaways_df = pd.read_csv(castaways_path)\n",
    "\n",
    "castaways_df.head()"
   ]
  },
  {
   "cell_type": "code",
   "execution_count": 5,
   "metadata": {},
   "outputs": [
    {
     "output_type": "execute_result",
     "data": {
      "text/plain": [
       "array([33, 40, 43, 45, 39, 36, 44, 35, 28, 29, 41, 48, 34, 27, 60, 32, 23,\n",
       "       24, 26, 37, 59, 46, 19, 25, 38, 21, 57, 31, 30, 47, 22, 18, 42, 50,\n",
       "       51, 52, 54, 49, 71, 55, 20, 53, 64, 67, 56, 63, 62, 61, 75, 72])"
      ]
     },
     "metadata": {},
     "execution_count": 5
    }
   ],
   "source": [
    "unique_ages = castaways_df['age'].unique()\n",
    "unique_ages"
   ]
  },
  {
   "cell_type": "code",
   "execution_count": 6,
   "metadata": {},
   "outputs": [
    {
     "output_type": "execute_result",
     "data": {
      "text/plain": [
       "75"
      ]
     },
     "metadata": {},
     "execution_count": 6
    }
   ],
   "source": [
    "max_age = castaways_df['age'].max()\n",
    "max_age"
   ]
  },
  {
   "cell_type": "code",
   "execution_count": 7,
   "metadata": {},
   "outputs": [
    {
     "output_type": "execute_result",
     "data": {
      "text/plain": [
       "18"
      ]
     },
     "metadata": {},
     "execution_count": 7
    }
   ],
   "source": [
    "min_age = castaways_df['age'].min()\n",
    "min_age"
   ]
  },
  {
   "cell_type": "code",
   "execution_count": 8,
   "metadata": {},
   "outputs": [
    {
     "output_type": "stream",
     "name": "stdout",
     "text": [
      "[15 25 35 45 55 65 75]\n"
     ]
    }
   ],
   "source": [
    "print(np.arange(15, 85, 10))"
   ]
  },
  {
   "cell_type": "code",
   "execution_count": 9,
   "metadata": {},
   "outputs": [
    {
     "output_type": "execute_result",
     "data": {
      "text/plain": [
       "                  season_name  season          full_name castaway  age  \\\n",
       "0    Survivor: Winners at War      40   Natalie Anderson  Natalie   33   \n",
       "1    Survivor: Winners at War      40      Amber Mariano    Amber   40   \n",
       "2    Survivor: Winners at War      40   Danni Boatwright    Danni   43   \n",
       "3    Survivor: Winners at War      40         Ethan Zohn    Ethan   45   \n",
       "4    Survivor: Winners at War      40      Tyson Apostol    Tyson   39   \n",
       "..                        ...     ...                ...      ...  ...   \n",
       "739          Survivor: Borneo       1       Sean Kenniff     Sean   30   \n",
       "740          Survivor: Borneo       1         Susan Hawk    Susan   38   \n",
       "741          Survivor: Borneo       1        Rudy Boesch     Rudy   72   \n",
       "742          Survivor: Borneo       1  Kelly Wiglesworth    Kelly   22   \n",
       "743          Survivor: Borneo       1      Richard Hatch  Richard   39   \n",
       "\n",
       "               city          state personality_type  day  order  \\\n",
       "0         Edgewater     New Jersey             ESTP    2      1   \n",
       "1         Pensacola        Florida             ISFP    3      2   \n",
       "2           Shawnee         Kansas             ENFJ    6      3   \n",
       "3      Hillsborough  New Hampshire             ISFP    9      4   \n",
       "4              Mesa        Arizona             ESTP   11      5   \n",
       "..              ...            ...              ...  ...    ...   \n",
       "739     Carle Place       New York             INTP   36     12   \n",
       "740         Palmyra      Wisconsin             ESTP   37     13   \n",
       "741  Virginia Beach       Virginia             ISTJ   38     14   \n",
       "742       Kernville     California             ISFP   39     15   \n",
       "743         Newport   Rhode Island             ENTP   39     16   \n",
       "\n",
       "             result      jury_status original_tribe swapped_tribe  \\\n",
       "0     1st voted out              NaN           Sele           NaN   \n",
       "1     2nd voted out  1st jury member          Dakal           NaN   \n",
       "2     3rd voted out  2nd jury member           Sele           NaN   \n",
       "3     4th voted out  3rd jury member           Sele           NaN   \n",
       "4     5th voted out              NaN          Dakal           NaN   \n",
       "..              ...              ...            ...           ...   \n",
       "739  12th voted out  5th jury member           Tagi           NaN   \n",
       "740  13th voted out  6th jury member           Tagi           NaN   \n",
       "741  14th voted out  7th jury member           Tagi           NaN   \n",
       "742       Runner-up              NaN           Tagi           NaN   \n",
       "743   Sole Survivor              NaN           Tagi           NaN   \n",
       "\n",
       "    swapped_tribe2 merged_tribe  total_votes_received  immunity_idols_won  \\\n",
       "0              NaN          NaN                    11                   1   \n",
       "1              NaN          NaN                     6                   0   \n",
       "2              NaN          NaN                     8                   0   \n",
       "3              NaN          NaN                     4                   0   \n",
       "4              NaN          NaN                    12                   0   \n",
       "..             ...          ...                   ...                 ...   \n",
       "739            NaN      Rattana                     9                   0   \n",
       "740            NaN      Rattana                     7                   0   \n",
       "741            NaN      Rattana                     8                   1   \n",
       "742            NaN      Rattana                     0                   4   \n",
       "743            NaN      Rattana                     6                   1   \n",
       "\n",
       "        age_group  \n",
       "0           26-35  \n",
       "1           36-45  \n",
       "2           36-45  \n",
       "3           36-45  \n",
       "4           36-45  \n",
       "..            ...  \n",
       "739         26-35  \n",
       "740         36-45  \n",
       "741  66 and older  \n",
       "742         16-25  \n",
       "743         36-45  \n",
       "\n",
       "[744 rows x 19 columns]"
      ],
      "text/html": "<div>\n<style scoped>\n    .dataframe tbody tr th:only-of-type {\n        vertical-align: middle;\n    }\n\n    .dataframe tbody tr th {\n        vertical-align: top;\n    }\n\n    .dataframe thead th {\n        text-align: right;\n    }\n</style>\n<table border=\"1\" class=\"dataframe\">\n  <thead>\n    <tr style=\"text-align: right;\">\n      <th></th>\n      <th>season_name</th>\n      <th>season</th>\n      <th>full_name</th>\n      <th>castaway</th>\n      <th>age</th>\n      <th>city</th>\n      <th>state</th>\n      <th>personality_type</th>\n      <th>day</th>\n      <th>order</th>\n      <th>result</th>\n      <th>jury_status</th>\n      <th>original_tribe</th>\n      <th>swapped_tribe</th>\n      <th>swapped_tribe2</th>\n      <th>merged_tribe</th>\n      <th>total_votes_received</th>\n      <th>immunity_idols_won</th>\n      <th>age_group</th>\n    </tr>\n  </thead>\n  <tbody>\n    <tr>\n      <th>0</th>\n      <td>Survivor: Winners at War</td>\n      <td>40</td>\n      <td>Natalie Anderson</td>\n      <td>Natalie</td>\n      <td>33</td>\n      <td>Edgewater</td>\n      <td>New Jersey</td>\n      <td>ESTP</td>\n      <td>2</td>\n      <td>1</td>\n      <td>1st voted out</td>\n      <td>NaN</td>\n      <td>Sele</td>\n      <td>NaN</td>\n      <td>NaN</td>\n      <td>NaN</td>\n      <td>11</td>\n      <td>1</td>\n      <td>26-35</td>\n    </tr>\n    <tr>\n      <th>1</th>\n      <td>Survivor: Winners at War</td>\n      <td>40</td>\n      <td>Amber Mariano</td>\n      <td>Amber</td>\n      <td>40</td>\n      <td>Pensacola</td>\n      <td>Florida</td>\n      <td>ISFP</td>\n      <td>3</td>\n      <td>2</td>\n      <td>2nd voted out</td>\n      <td>1st jury member</td>\n      <td>Dakal</td>\n      <td>NaN</td>\n      <td>NaN</td>\n      <td>NaN</td>\n      <td>6</td>\n      <td>0</td>\n      <td>36-45</td>\n    </tr>\n    <tr>\n      <th>2</th>\n      <td>Survivor: Winners at War</td>\n      <td>40</td>\n      <td>Danni Boatwright</td>\n      <td>Danni</td>\n      <td>43</td>\n      <td>Shawnee</td>\n      <td>Kansas</td>\n      <td>ENFJ</td>\n      <td>6</td>\n      <td>3</td>\n      <td>3rd voted out</td>\n      <td>2nd jury member</td>\n      <td>Sele</td>\n      <td>NaN</td>\n      <td>NaN</td>\n      <td>NaN</td>\n      <td>8</td>\n      <td>0</td>\n      <td>36-45</td>\n    </tr>\n    <tr>\n      <th>3</th>\n      <td>Survivor: Winners at War</td>\n      <td>40</td>\n      <td>Ethan Zohn</td>\n      <td>Ethan</td>\n      <td>45</td>\n      <td>Hillsborough</td>\n      <td>New Hampshire</td>\n      <td>ISFP</td>\n      <td>9</td>\n      <td>4</td>\n      <td>4th voted out</td>\n      <td>3rd jury member</td>\n      <td>Sele</td>\n      <td>NaN</td>\n      <td>NaN</td>\n      <td>NaN</td>\n      <td>4</td>\n      <td>0</td>\n      <td>36-45</td>\n    </tr>\n    <tr>\n      <th>4</th>\n      <td>Survivor: Winners at War</td>\n      <td>40</td>\n      <td>Tyson Apostol</td>\n      <td>Tyson</td>\n      <td>39</td>\n      <td>Mesa</td>\n      <td>Arizona</td>\n      <td>ESTP</td>\n      <td>11</td>\n      <td>5</td>\n      <td>5th voted out</td>\n      <td>NaN</td>\n      <td>Dakal</td>\n      <td>NaN</td>\n      <td>NaN</td>\n      <td>NaN</td>\n      <td>12</td>\n      <td>0</td>\n      <td>36-45</td>\n    </tr>\n    <tr>\n      <th>...</th>\n      <td>...</td>\n      <td>...</td>\n      <td>...</td>\n      <td>...</td>\n      <td>...</td>\n      <td>...</td>\n      <td>...</td>\n      <td>...</td>\n      <td>...</td>\n      <td>...</td>\n      <td>...</td>\n      <td>...</td>\n      <td>...</td>\n      <td>...</td>\n      <td>...</td>\n      <td>...</td>\n      <td>...</td>\n      <td>...</td>\n      <td>...</td>\n    </tr>\n    <tr>\n      <th>739</th>\n      <td>Survivor: Borneo</td>\n      <td>1</td>\n      <td>Sean Kenniff</td>\n      <td>Sean</td>\n      <td>30</td>\n      <td>Carle Place</td>\n      <td>New York</td>\n      <td>INTP</td>\n      <td>36</td>\n      <td>12</td>\n      <td>12th voted out</td>\n      <td>5th jury member</td>\n      <td>Tagi</td>\n      <td>NaN</td>\n      <td>NaN</td>\n      <td>Rattana</td>\n      <td>9</td>\n      <td>0</td>\n      <td>26-35</td>\n    </tr>\n    <tr>\n      <th>740</th>\n      <td>Survivor: Borneo</td>\n      <td>1</td>\n      <td>Susan Hawk</td>\n      <td>Susan</td>\n      <td>38</td>\n      <td>Palmyra</td>\n      <td>Wisconsin</td>\n      <td>ESTP</td>\n      <td>37</td>\n      <td>13</td>\n      <td>13th voted out</td>\n      <td>6th jury member</td>\n      <td>Tagi</td>\n      <td>NaN</td>\n      <td>NaN</td>\n      <td>Rattana</td>\n      <td>7</td>\n      <td>0</td>\n      <td>36-45</td>\n    </tr>\n    <tr>\n      <th>741</th>\n      <td>Survivor: Borneo</td>\n      <td>1</td>\n      <td>Rudy Boesch</td>\n      <td>Rudy</td>\n      <td>72</td>\n      <td>Virginia Beach</td>\n      <td>Virginia</td>\n      <td>ISTJ</td>\n      <td>38</td>\n      <td>14</td>\n      <td>14th voted out</td>\n      <td>7th jury member</td>\n      <td>Tagi</td>\n      <td>NaN</td>\n      <td>NaN</td>\n      <td>Rattana</td>\n      <td>8</td>\n      <td>1</td>\n      <td>66 and older</td>\n    </tr>\n    <tr>\n      <th>742</th>\n      <td>Survivor: Borneo</td>\n      <td>1</td>\n      <td>Kelly Wiglesworth</td>\n      <td>Kelly</td>\n      <td>22</td>\n      <td>Kernville</td>\n      <td>California</td>\n      <td>ISFP</td>\n      <td>39</td>\n      <td>15</td>\n      <td>Runner-up</td>\n      <td>NaN</td>\n      <td>Tagi</td>\n      <td>NaN</td>\n      <td>NaN</td>\n      <td>Rattana</td>\n      <td>0</td>\n      <td>4</td>\n      <td>16-25</td>\n    </tr>\n    <tr>\n      <th>743</th>\n      <td>Survivor: Borneo</td>\n      <td>1</td>\n      <td>Richard Hatch</td>\n      <td>Richard</td>\n      <td>39</td>\n      <td>Newport</td>\n      <td>Rhode Island</td>\n      <td>ENTP</td>\n      <td>39</td>\n      <td>16</td>\n      <td>Sole Survivor</td>\n      <td>NaN</td>\n      <td>Tagi</td>\n      <td>NaN</td>\n      <td>NaN</td>\n      <td>Rattana</td>\n      <td>6</td>\n      <td>1</td>\n      <td>36-45</td>\n    </tr>\n  </tbody>\n</table>\n<p>744 rows × 19 columns</p>\n</div>"
     },
     "metadata": {},
     "execution_count": 9
    }
   ],
   "source": [
    "\n",
    "bins = np.arange(15, 85, 10)\n",
    "group_names = [\"16-25\",'26-35','36-45','46-55','56-65','66 and older']\n",
    "copy_castaways_df = castaways_df.copy()\n",
    "copy_castaways_df['age_group']=pd.cut(copy_castaways_df['age'], bins, labels = group_names)\n",
    "# copy_castaways_df['reading_score']=pd.cut(copy_students_df['reading_score'], bins, labels = group_names)\n",
    "copy_castaways_df"
   ]
  },
  {
   "cell_type": "code",
   "execution_count": 10,
   "metadata": {},
   "outputs": [
    {
     "output_type": "execute_result",
     "data": {
      "text/plain": [
       "                  season_name  season          full_name castaway  age  \\\n",
       "0    Survivor: Winners at War      40   Natalie Anderson  Natalie   33   \n",
       "1    Survivor: Winners at War      40      Amber Mariano    Amber   40   \n",
       "2    Survivor: Winners at War      40   Danni Boatwright    Danni   43   \n",
       "3    Survivor: Winners at War      40         Ethan Zohn    Ethan   45   \n",
       "4    Survivor: Winners at War      40      Tyson Apostol    Tyson   39   \n",
       "..                        ...     ...                ...      ...  ...   \n",
       "739          Survivor: Borneo       1       Sean Kenniff     Sean   30   \n",
       "740          Survivor: Borneo       1         Susan Hawk    Susan   38   \n",
       "741          Survivor: Borneo       1        Rudy Boesch     Rudy   72   \n",
       "742          Survivor: Borneo       1  Kelly Wiglesworth    Kelly   22   \n",
       "743          Survivor: Borneo       1      Richard Hatch  Richard   39   \n",
       "\n",
       "        age_group            city          state personality_type  day  order  \\\n",
       "0           26-35       Edgewater     New Jersey             ESTP    2      1   \n",
       "1           36-45       Pensacola        Florida             ISFP    3      2   \n",
       "2           36-45         Shawnee         Kansas             ENFJ    6      3   \n",
       "3           36-45    Hillsborough  New Hampshire             ISFP    9      4   \n",
       "4           36-45            Mesa        Arizona             ESTP   11      5   \n",
       "..            ...             ...            ...              ...  ...    ...   \n",
       "739         26-35     Carle Place       New York             INTP   36     12   \n",
       "740         36-45         Palmyra      Wisconsin             ESTP   37     13   \n",
       "741  66 and older  Virginia Beach       Virginia             ISTJ   38     14   \n",
       "742         16-25       Kernville     California             ISFP   39     15   \n",
       "743         36-45         Newport   Rhode Island             ENTP   39     16   \n",
       "\n",
       "             result      jury_status original_tribe swapped_tribe  \\\n",
       "0     1st voted out              NaN           Sele           NaN   \n",
       "1     2nd voted out  1st jury member          Dakal           NaN   \n",
       "2     3rd voted out  2nd jury member           Sele           NaN   \n",
       "3     4th voted out  3rd jury member           Sele           NaN   \n",
       "4     5th voted out              NaN          Dakal           NaN   \n",
       "..              ...              ...            ...           ...   \n",
       "739  12th voted out  5th jury member           Tagi           NaN   \n",
       "740  13th voted out  6th jury member           Tagi           NaN   \n",
       "741  14th voted out  7th jury member           Tagi           NaN   \n",
       "742       Runner-up              NaN           Tagi           NaN   \n",
       "743   Sole Survivor              NaN           Tagi           NaN   \n",
       "\n",
       "    swapped_tribe2 merged_tribe  total_votes_received  immunity_idols_won  \n",
       "0              NaN          NaN                    11                   1  \n",
       "1              NaN          NaN                     6                   0  \n",
       "2              NaN          NaN                     8                   0  \n",
       "3              NaN          NaN                     4                   0  \n",
       "4              NaN          NaN                    12                   0  \n",
       "..             ...          ...                   ...                 ...  \n",
       "739            NaN      Rattana                     9                   0  \n",
       "740            NaN      Rattana                     7                   0  \n",
       "741            NaN      Rattana                     8                   1  \n",
       "742            NaN      Rattana                     0                   4  \n",
       "743            NaN      Rattana                     6                   1  \n",
       "\n",
       "[744 rows x 19 columns]"
      ],
      "text/html": "<div>\n<style scoped>\n    .dataframe tbody tr th:only-of-type {\n        vertical-align: middle;\n    }\n\n    .dataframe tbody tr th {\n        vertical-align: top;\n    }\n\n    .dataframe thead th {\n        text-align: right;\n    }\n</style>\n<table border=\"1\" class=\"dataframe\">\n  <thead>\n    <tr style=\"text-align: right;\">\n      <th></th>\n      <th>season_name</th>\n      <th>season</th>\n      <th>full_name</th>\n      <th>castaway</th>\n      <th>age</th>\n      <th>age_group</th>\n      <th>city</th>\n      <th>state</th>\n      <th>personality_type</th>\n      <th>day</th>\n      <th>order</th>\n      <th>result</th>\n      <th>jury_status</th>\n      <th>original_tribe</th>\n      <th>swapped_tribe</th>\n      <th>swapped_tribe2</th>\n      <th>merged_tribe</th>\n      <th>total_votes_received</th>\n      <th>immunity_idols_won</th>\n    </tr>\n  </thead>\n  <tbody>\n    <tr>\n      <th>0</th>\n      <td>Survivor: Winners at War</td>\n      <td>40</td>\n      <td>Natalie Anderson</td>\n      <td>Natalie</td>\n      <td>33</td>\n      <td>26-35</td>\n      <td>Edgewater</td>\n      <td>New Jersey</td>\n      <td>ESTP</td>\n      <td>2</td>\n      <td>1</td>\n      <td>1st voted out</td>\n      <td>NaN</td>\n      <td>Sele</td>\n      <td>NaN</td>\n      <td>NaN</td>\n      <td>NaN</td>\n      <td>11</td>\n      <td>1</td>\n    </tr>\n    <tr>\n      <th>1</th>\n      <td>Survivor: Winners at War</td>\n      <td>40</td>\n      <td>Amber Mariano</td>\n      <td>Amber</td>\n      <td>40</td>\n      <td>36-45</td>\n      <td>Pensacola</td>\n      <td>Florida</td>\n      <td>ISFP</td>\n      <td>3</td>\n      <td>2</td>\n      <td>2nd voted out</td>\n      <td>1st jury member</td>\n      <td>Dakal</td>\n      <td>NaN</td>\n      <td>NaN</td>\n      <td>NaN</td>\n      <td>6</td>\n      <td>0</td>\n    </tr>\n    <tr>\n      <th>2</th>\n      <td>Survivor: Winners at War</td>\n      <td>40</td>\n      <td>Danni Boatwright</td>\n      <td>Danni</td>\n      <td>43</td>\n      <td>36-45</td>\n      <td>Shawnee</td>\n      <td>Kansas</td>\n      <td>ENFJ</td>\n      <td>6</td>\n      <td>3</td>\n      <td>3rd voted out</td>\n      <td>2nd jury member</td>\n      <td>Sele</td>\n      <td>NaN</td>\n      <td>NaN</td>\n      <td>NaN</td>\n      <td>8</td>\n      <td>0</td>\n    </tr>\n    <tr>\n      <th>3</th>\n      <td>Survivor: Winners at War</td>\n      <td>40</td>\n      <td>Ethan Zohn</td>\n      <td>Ethan</td>\n      <td>45</td>\n      <td>36-45</td>\n      <td>Hillsborough</td>\n      <td>New Hampshire</td>\n      <td>ISFP</td>\n      <td>9</td>\n      <td>4</td>\n      <td>4th voted out</td>\n      <td>3rd jury member</td>\n      <td>Sele</td>\n      <td>NaN</td>\n      <td>NaN</td>\n      <td>NaN</td>\n      <td>4</td>\n      <td>0</td>\n    </tr>\n    <tr>\n      <th>4</th>\n      <td>Survivor: Winners at War</td>\n      <td>40</td>\n      <td>Tyson Apostol</td>\n      <td>Tyson</td>\n      <td>39</td>\n      <td>36-45</td>\n      <td>Mesa</td>\n      <td>Arizona</td>\n      <td>ESTP</td>\n      <td>11</td>\n      <td>5</td>\n      <td>5th voted out</td>\n      <td>NaN</td>\n      <td>Dakal</td>\n      <td>NaN</td>\n      <td>NaN</td>\n      <td>NaN</td>\n      <td>12</td>\n      <td>0</td>\n    </tr>\n    <tr>\n      <th>...</th>\n      <td>...</td>\n      <td>...</td>\n      <td>...</td>\n      <td>...</td>\n      <td>...</td>\n      <td>...</td>\n      <td>...</td>\n      <td>...</td>\n      <td>...</td>\n      <td>...</td>\n      <td>...</td>\n      <td>...</td>\n      <td>...</td>\n      <td>...</td>\n      <td>...</td>\n      <td>...</td>\n      <td>...</td>\n      <td>...</td>\n      <td>...</td>\n    </tr>\n    <tr>\n      <th>739</th>\n      <td>Survivor: Borneo</td>\n      <td>1</td>\n      <td>Sean Kenniff</td>\n      <td>Sean</td>\n      <td>30</td>\n      <td>26-35</td>\n      <td>Carle Place</td>\n      <td>New York</td>\n      <td>INTP</td>\n      <td>36</td>\n      <td>12</td>\n      <td>12th voted out</td>\n      <td>5th jury member</td>\n      <td>Tagi</td>\n      <td>NaN</td>\n      <td>NaN</td>\n      <td>Rattana</td>\n      <td>9</td>\n      <td>0</td>\n    </tr>\n    <tr>\n      <th>740</th>\n      <td>Survivor: Borneo</td>\n      <td>1</td>\n      <td>Susan Hawk</td>\n      <td>Susan</td>\n      <td>38</td>\n      <td>36-45</td>\n      <td>Palmyra</td>\n      <td>Wisconsin</td>\n      <td>ESTP</td>\n      <td>37</td>\n      <td>13</td>\n      <td>13th voted out</td>\n      <td>6th jury member</td>\n      <td>Tagi</td>\n      <td>NaN</td>\n      <td>NaN</td>\n      <td>Rattana</td>\n      <td>7</td>\n      <td>0</td>\n    </tr>\n    <tr>\n      <th>741</th>\n      <td>Survivor: Borneo</td>\n      <td>1</td>\n      <td>Rudy Boesch</td>\n      <td>Rudy</td>\n      <td>72</td>\n      <td>66 and older</td>\n      <td>Virginia Beach</td>\n      <td>Virginia</td>\n      <td>ISTJ</td>\n      <td>38</td>\n      <td>14</td>\n      <td>14th voted out</td>\n      <td>7th jury member</td>\n      <td>Tagi</td>\n      <td>NaN</td>\n      <td>NaN</td>\n      <td>Rattana</td>\n      <td>8</td>\n      <td>1</td>\n    </tr>\n    <tr>\n      <th>742</th>\n      <td>Survivor: Borneo</td>\n      <td>1</td>\n      <td>Kelly Wiglesworth</td>\n      <td>Kelly</td>\n      <td>22</td>\n      <td>16-25</td>\n      <td>Kernville</td>\n      <td>California</td>\n      <td>ISFP</td>\n      <td>39</td>\n      <td>15</td>\n      <td>Runner-up</td>\n      <td>NaN</td>\n      <td>Tagi</td>\n      <td>NaN</td>\n      <td>NaN</td>\n      <td>Rattana</td>\n      <td>0</td>\n      <td>4</td>\n    </tr>\n    <tr>\n      <th>743</th>\n      <td>Survivor: Borneo</td>\n      <td>1</td>\n      <td>Richard Hatch</td>\n      <td>Richard</td>\n      <td>39</td>\n      <td>36-45</td>\n      <td>Newport</td>\n      <td>Rhode Island</td>\n      <td>ENTP</td>\n      <td>39</td>\n      <td>16</td>\n      <td>Sole Survivor</td>\n      <td>NaN</td>\n      <td>Tagi</td>\n      <td>NaN</td>\n      <td>NaN</td>\n      <td>Rattana</td>\n      <td>6</td>\n      <td>1</td>\n    </tr>\n  </tbody>\n</table>\n<p>744 rows × 19 columns</p>\n</div>"
     },
     "metadata": {},
     "execution_count": 10
    }
   ],
   "source": [
    "castaways_df = copy_castaways_df[['season_name', 'season', 'full_name', 'castaway','age', 'age_group', 'city', 'state', 'personality_type', 'day', 'order', 'result', 'jury_status', 'original_tribe', 'swapped_tribe', 'swapped_tribe2', 'merged_tribe', 'total_votes_received', 'immunity_idols_won']]\n",
    "castaways_df"
   ]
  },
  {
   "cell_type": "code",
   "execution_count": 16,
   "metadata": {},
   "outputs": [
    {
     "output_type": "execute_result",
     "data": {
      "text/plain": [
       "age\n",
       "16-25           1166\n",
       "26-35           1920\n",
       "36-45            987\n",
       "46-55            504\n",
       "56-65            123\n",
       "66 and older      20\n",
       "Name: total_votes_received, dtype: int64"
      ]
     },
     "metadata": {},
     "execution_count": 16
    }
   ],
   "source": [
    "grouped_df = copy_castaways_df.groupby(pd.cut(copy_castaways_df['age'], bins, labels = group_names)).sum()\n",
    "grouped_df['total_votes_received']"
   ]
  },
  {
   "cell_type": "code",
   "execution_count": 18,
   "metadata": {},
   "outputs": [
    {
     "output_type": "execute_result",
     "data": {
      "text/plain": [
       "age\n",
       "16-25           187\n",
       "26-35           298\n",
       "36-45           157\n",
       "46-55            79\n",
       "56-65            19\n",
       "66 and older      4\n",
       "Name: age_group, dtype: int64"
      ]
     },
     "metadata": {},
     "execution_count": 18
    }
   ],
   "source": [
    "grouped_df = copy_castaways_df.groupby(pd.cut(copy_castaways_df['age'], bins, labels = group_names)).count()\n",
    "grouped_df['age_group']"
   ]
  },
  {
   "cell_type": "code",
   "execution_count": null,
   "metadata": {},
   "outputs": [],
   "source": []
  }
 ]
}